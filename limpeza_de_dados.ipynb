{
 "cells": [
  {
   "cell_type": "code",
   "execution_count": 353,
   "metadata": {},
   "outputs": [],
   "source": [
    "import pandas as pd\n",
    "import numpy as np\n",
    "import matplotlib.pyplot as plt"
   ]
  },
  {
   "attachments": {},
   "cell_type": "markdown",
   "metadata": {},
   "source": [
    "#   Análise incial dos dados"
   ]
  },
  {
   "cell_type": "code",
   "execution_count": 354,
   "metadata": {},
   "outputs": [],
   "source": [
    "df = pd.read_excel('base_telecomunicacao.xlsx',sheet_name='Sheet1')"
   ]
  },
  {
   "cell_type": "code",
   "execution_count": 355,
   "metadata": {},
   "outputs": [
    {
     "data": {
      "text/html": [
       "<div>\n",
       "<style scoped>\n",
       "    .dataframe tbody tr th:only-of-type {\n",
       "        vertical-align: middle;\n",
       "    }\n",
       "\n",
       "    .dataframe tbody tr th {\n",
       "        vertical-align: top;\n",
       "    }\n",
       "\n",
       "    .dataframe thead th {\n",
       "        text-align: right;\n",
       "    }\n",
       "</style>\n",
       "<table border=\"1\" class=\"dataframe\">\n",
       "  <thead>\n",
       "    <tr style=\"text-align: right;\">\n",
       "      <th></th>\n",
       "      <th>Idade</th>\n",
       "      <th>Renda_Mensal</th>\n",
       "      <th>Uso_Internet</th>\n",
       "      <th>Satisfacao_Servico</th>\n",
       "      <th>Interesse_5G</th>\n",
       "      <th>Pessoas_Residencia</th>\n",
       "      <th>Gasto_Internet</th>\n",
       "      <th>Interesse_Combo</th>\n",
       "      <th>Atendimento_Recebido</th>\n",
       "      <th>Satisfacao_Geral</th>\n",
       "    </tr>\n",
       "  </thead>\n",
       "  <tbody>\n",
       "    <tr>\n",
       "      <th>count</th>\n",
       "      <td>1905.000000</td>\n",
       "      <td>1939.000000</td>\n",
       "      <td>1924.000000</td>\n",
       "      <td>1907.000000</td>\n",
       "      <td>1883.000000</td>\n",
       "      <td>1965.000000</td>\n",
       "      <td>1914.000000</td>\n",
       "      <td>1899.000000</td>\n",
       "      <td>1924.000000</td>\n",
       "      <td>1904.000000</td>\n",
       "    </tr>\n",
       "    <tr>\n",
       "      <th>mean</th>\n",
       "      <td>43.622572</td>\n",
       "      <td>9626.135637</td>\n",
       "      <td>6.549376</td>\n",
       "      <td>5.668065</td>\n",
       "      <td>5.587892</td>\n",
       "      <td>4.837659</td>\n",
       "      <td>274.261233</td>\n",
       "      <td>5.499210</td>\n",
       "      <td>5.630457</td>\n",
       "      <td>5.597689</td>\n",
       "    </tr>\n",
       "    <tr>\n",
       "      <th>std</th>\n",
       "      <td>17.288482</td>\n",
       "      <td>9663.569508</td>\n",
       "      <td>3.377937</td>\n",
       "      <td>2.805975</td>\n",
       "      <td>2.788717</td>\n",
       "      <td>2.603774</td>\n",
       "      <td>114.884545</td>\n",
       "      <td>2.746465</td>\n",
       "      <td>2.827715</td>\n",
       "      <td>2.826553</td>\n",
       "    </tr>\n",
       "    <tr>\n",
       "      <th>min</th>\n",
       "      <td>5.000000</td>\n",
       "      <td>-500.000000</td>\n",
       "      <td>0.000000</td>\n",
       "      <td>0.000000</td>\n",
       "      <td>0.000000</td>\n",
       "      <td>1.000000</td>\n",
       "      <td>51.000000</td>\n",
       "      <td>0.000000</td>\n",
       "      <td>0.000000</td>\n",
       "      <td>0.000000</td>\n",
       "    </tr>\n",
       "    <tr>\n",
       "      <th>25%</th>\n",
       "      <td>31.000000</td>\n",
       "      <td>4342.000000</td>\n",
       "      <td>4.000000</td>\n",
       "      <td>4.000000</td>\n",
       "      <td>4.000000</td>\n",
       "      <td>3.000000</td>\n",
       "      <td>187.000000</td>\n",
       "      <td>4.000000</td>\n",
       "      <td>4.000000</td>\n",
       "      <td>4.000000</td>\n",
       "    </tr>\n",
       "    <tr>\n",
       "      <th>50%</th>\n",
       "      <td>43.000000</td>\n",
       "      <td>7662.000000</td>\n",
       "      <td>6.000000</td>\n",
       "      <td>6.000000</td>\n",
       "      <td>6.000000</td>\n",
       "      <td>4.000000</td>\n",
       "      <td>263.000000</td>\n",
       "      <td>6.000000</td>\n",
       "      <td>6.000000</td>\n",
       "      <td>6.000000</td>\n",
       "    </tr>\n",
       "    <tr>\n",
       "      <th>75%</th>\n",
       "      <td>56.000000</td>\n",
       "      <td>13689.500000</td>\n",
       "      <td>9.000000</td>\n",
       "      <td>8.000000</td>\n",
       "      <td>8.000000</td>\n",
       "      <td>7.000000</td>\n",
       "      <td>365.000000</td>\n",
       "      <td>7.000000</td>\n",
       "      <td>8.000000</td>\n",
       "      <td>8.000000</td>\n",
       "    </tr>\n",
       "    <tr>\n",
       "      <th>max</th>\n",
       "      <td>120.000000</td>\n",
       "      <td>100000.000000</td>\n",
       "      <td>15.000000</td>\n",
       "      <td>10.000000</td>\n",
       "      <td>10.000000</td>\n",
       "      <td>10.000000</td>\n",
       "      <td>500.000000</td>\n",
       "      <td>10.000000</td>\n",
       "      <td>10.000000</td>\n",
       "      <td>10.000000</td>\n",
       "    </tr>\n",
       "  </tbody>\n",
       "</table>\n",
       "</div>"
      ],
      "text/plain": [
       "             Idade   Renda_Mensal  Uso_Internet  Satisfacao_Servico  \\\n",
       "count  1905.000000    1939.000000   1924.000000         1907.000000   \n",
       "mean     43.622572    9626.135637      6.549376            5.668065   \n",
       "std      17.288482    9663.569508      3.377937            2.805975   \n",
       "min       5.000000    -500.000000      0.000000            0.000000   \n",
       "25%      31.000000    4342.000000      4.000000            4.000000   \n",
       "50%      43.000000    7662.000000      6.000000            6.000000   \n",
       "75%      56.000000   13689.500000      9.000000            8.000000   \n",
       "max     120.000000  100000.000000     15.000000           10.000000   \n",
       "\n",
       "       Interesse_5G  Pessoas_Residencia  Gasto_Internet  Interesse_Combo  \\\n",
       "count   1883.000000         1965.000000     1914.000000      1899.000000   \n",
       "mean       5.587892            4.837659      274.261233         5.499210   \n",
       "std        2.788717            2.603774      114.884545         2.746465   \n",
       "min        0.000000            1.000000       51.000000         0.000000   \n",
       "25%        4.000000            3.000000      187.000000         4.000000   \n",
       "50%        6.000000            4.000000      263.000000         6.000000   \n",
       "75%        8.000000            7.000000      365.000000         7.000000   \n",
       "max       10.000000           10.000000      500.000000        10.000000   \n",
       "\n",
       "       Atendimento_Recebido  Satisfacao_Geral  \n",
       "count           1924.000000       1904.000000  \n",
       "mean               5.630457          5.597689  \n",
       "std                2.827715          2.826553  \n",
       "min                0.000000          0.000000  \n",
       "25%                4.000000          4.000000  \n",
       "50%                6.000000          6.000000  \n",
       "75%                8.000000          8.000000  \n",
       "max               10.000000         10.000000  "
      ]
     },
     "execution_count": 355,
     "metadata": {},
     "output_type": "execute_result"
    }
   ],
   "source": [
    "df.describe()"
   ]
  },
  {
   "cell_type": "code",
   "execution_count": 356,
   "metadata": {},
   "outputs": [
    {
     "data": {
      "text/plain": [
       "Ocupacao                   object\n",
       "Idade                     float64\n",
       "Cidade_Nascimento          object\n",
       "Dispositivos               object\n",
       "Renda_Mensal              float64\n",
       "Uso_Internet              float64\n",
       "Troca_Celular              object\n",
       "Satisfacao_Servico        float64\n",
       "Operadora_Celular          object\n",
       "Interesse_5G              float64\n",
       "Assistencia_TV             object\n",
       "Preferencia_Compra         object\n",
       "Pessoas_Residencia        float64\n",
       "Gasto_Internet            float64\n",
       "Plano_Preferencia          object\n",
       "Conhecimento_IoT           object\n",
       "Interesse_Combo           float64\n",
       "Regiao                     object\n",
       "Uso_Internet_5h            object\n",
       "Genero                     object\n",
       "Plano_Atual                object\n",
       "Dispositivo_Utilizado      object\n",
       "Plano_5G                   object\n",
       "Motivo_Troca               object\n",
       "Trabalho_Remoto            object\n",
       "Possui_Plano_Telefonia     object\n",
       "Servicos_Streaming         object\n",
       "Prioridade_Plano           object\n",
       "Pagar_Velocidade           object\n",
       "Atendimento_Recebido      float64\n",
       "Plano_Familiar             object\n",
       "Satisfacao_Geral          float64\n",
       "dtype: object"
      ]
     },
     "execution_count": 356,
     "metadata": {},
     "output_type": "execute_result"
    }
   ],
   "source": [
    "df.dtypes"
   ]
  },
  {
   "attachments": {},
   "cell_type": "markdown",
   "metadata": {},
   "source": [
    "# Limpeza de dados"
   ]
  },
  {
   "cell_type": "code",
   "execution_count": 357,
   "metadata": {},
   "outputs": [
    {
     "name": "stdout",
     "output_type": "stream",
     "text": [
      "Ocupacao\n",
      "NaN             2587\n",
      "Estudante        484\n",
      "Outro            455\n",
      "Engenheiro       368\n",
      "Autônomo         235\n",
      "Comerciante      229\n",
      "Médico           214\n",
      "Professor        125\n",
      "Desempregado     121\n",
      "Advogado         110\n",
      "Name: count, dtype: int64\n"
     ]
    }
   ],
   "source": [
    "\n",
    "df.loc[df['Ocupacao'] == 'XYZ123', 'Ocupacao'] = np.nan\n",
    "print(df['Ocupacao'].value_counts(dropna=False))"
   ]
  },
  {
   "cell_type": "code",
   "execution_count": 358,
   "metadata": {},
   "outputs": [
    {
     "data": {
      "text/plain": [
       "Cidade_Nascimento\n",
       "São Paulo         157\n",
       "Aracaju           130\n",
       "Curitiba          130\n",
       "Teresina          123\n",
       "Belo Horizonte    122\n",
       "Florianópolis     121\n",
       "Maceió            121\n",
       "Goiânia           119\n",
       "Campinas          116\n",
       "Rio de Janeiro    115\n",
       "Vitória           113\n",
       "João Pessoa       113\n",
       "Fortaleza         111\n",
       "Natal             109\n",
       "Brasília          108\n",
       "Salvador          103\n",
       "Belém             103\n",
       "Manaus            101\n",
       "Recife             95\n",
       "Porto Alegre       91\n",
       "Outra              88\n",
       "Name: count, dtype: int64"
      ]
     },
     "execution_count": 358,
     "metadata": {},
     "output_type": "execute_result"
    }
   ],
   "source": [
    "\n",
    "df['Cidade_Nascimento'] = df['Cidade_Nascimento'].replace('sp', 'São Paulo')\n",
    "\n",
    "df['Cidade_Nascimento'] = df['Cidade_Nascimento'].replace('São paulo', 'São Paulo')\n",
    "df['Cidade_Nascimento'].value_counts()"
   ]
  },
  {
   "cell_type": "code",
   "execution_count": 359,
   "metadata": {},
   "outputs": [
    {
     "data": {
      "text/plain": [
       "Dispositivos\n",
       "NaN    2478\n",
       "2       958\n",
       "3       736\n",
       "1       362\n",
       "4       224\n",
       "5+      111\n",
       "na       26\n",
       "-1       19\n",
       "Mu       14\n",
       "Name: count, dtype: int64"
      ]
     },
     "execution_count": 359,
     "metadata": {},
     "output_type": "execute_result"
    }
   ],
   "source": [
    "df['Dispositivos'].value_counts(dropna=False)"
   ]
  },
  {
   "cell_type": "code",
   "execution_count": 360,
   "metadata": {},
   "outputs": [
    {
     "name": "stdout",
     "output_type": "stream",
     "text": [
      "Dispositivos\n",
      "NaN    2537\n",
      "2       958\n",
      "3       736\n",
      "1       362\n",
      "4       224\n",
      "5+      111\n",
      "Name: count, dtype: int64\n"
     ]
    }
   ],
   "source": [
    "\n",
    "df.loc[df['Dispositivos'] == 'Mu', 'Dispositivos'] = np.nan\n",
    "df.loc[df['Dispositivos'] == 'na', 'Dispositivos'] = np.nan\n",
    "df.loc[df['Dispositivos'] == '-1', 'Dispositivos'] = np.nan\n",
    "\n",
    "print(df['Dispositivos'].value_counts(dropna=False))\n"
   ]
  },
  {
   "cell_type": "code",
   "execution_count": 361,
   "metadata": {},
   "outputs": [
    {
     "name": "stdout",
     "output_type": "stream",
     "text": [
      "Operadora_Celular\n",
      "NaN      2587\n",
      "Claro     727\n",
      "Vivo      586\n",
      "TIM       429\n",
      "Oi        341\n",
      "Outra     258\n",
      "Name: count, dtype: int64\n"
     ]
    }
   ],
   "source": [
    "df.loc[df['Operadora_Celular'] == '123', 'Operadora_Celular'] = np.nan\n",
    "df.loc[df['Operadora_Celular'] == 'indef', 'Operadora_Celular'] = np.nan\n",
    "print(df['Operadora_Celular'].value_counts(dropna=False))"
   ]
  },
  {
   "cell_type": "code",
   "execution_count": 362,
   "metadata": {},
   "outputs": [
    {
     "data": {
      "text/plain": [
       "Preferencia_Compra\n",
       "Online           1398\n",
       "Lojas Físicas     743\n",
       "Indiferente       297\n",
       "Name: count, dtype: int64"
      ]
     },
     "execution_count": 362,
     "metadata": {},
     "output_type": "execute_result"
    }
   ],
   "source": [
    "df['Preferencia_Compra'] = df['Preferencia_Compra'].replace('ambos', 'Indiferente')\n",
    "df['Preferencia_Compra'] = df['Preferencia_Compra'].replace('não sei', 'Indiferente')\n",
    "df['Preferencia_Compra'].value_counts()"
   ]
  },
  {
   "cell_type": "code",
   "execution_count": 363,
   "metadata": {},
   "outputs": [
    {
     "data": {
      "text/plain": [
       "Plano_Preferencia\n",
       "Pós-pago    1454\n",
       "Pré-pago     937\n",
       "Name: count, dtype: int64"
      ]
     },
     "execution_count": 363,
     "metadata": {},
     "output_type": "execute_result"
    }
   ],
   "source": [
    "df.loc[df['Plano_Preferencia'] == '?', 'Plano_Preferencia'] = np.nan\n",
    "df['Plano_Preferencia'].value_counts()"
   ]
  },
  {
   "cell_type": "code",
   "execution_count": 364,
   "metadata": {},
   "outputs": [
    {
     "data": {
      "text/plain": [
       "Uso_Internet_5h\n",
       "Sim    1664\n",
       "Não     677\n",
       "Name: count, dtype: int64"
      ]
     },
     "execution_count": 364,
     "metadata": {},
     "output_type": "execute_result"
    }
   ],
   "source": [
    "df.loc[df['Uso_Internet_5h'] == '?', 'Uso_Internet_5h'] = np.nan\n",
    "df['Uso_Internet_5h'].value_counts()"
   ]
  },
  {
   "cell_type": "code",
   "execution_count": 365,
   "metadata": {},
   "outputs": [
    {
     "data": {
      "text/plain": [
       "Servicos_Streaming\n",
       "1         926\n",
       "2         604\n",
       "Nenhum    465\n",
       "3+        235\n",
       "Name: count, dtype: int64"
      ]
     },
     "execution_count": 365,
     "metadata": {},
     "output_type": "execute_result"
    }
   ],
   "source": [
    "df.loc[df['Servicos_Streaming'] == 'Não sei', 'Servicos_Streaming'] = np.nan\n",
    "df.loc[df['Servicos_Streaming'] == '-', 'Servicos_Streaming'] = np.nan\n",
    "df['Servicos_Streaming'].value_counts()"
   ]
  },
  {
   "cell_type": "code",
   "execution_count": 366,
   "metadata": {},
   "outputs": [
    {
     "data": {
      "text/plain": [
       "Plano_Familiar\n",
       "Sim    1190\n",
       "Não    1151\n",
       "Name: count, dtype: int64"
      ]
     },
     "execution_count": 366,
     "metadata": {},
     "output_type": "execute_result"
    }
   ],
   "source": [
    "df.loc[df['Plano_Familiar'] == '?', 'Plano_Familiar'] = np.nan\n",
    "df['Plano_Familiar'].value_counts()"
   ]
  },
  {
   "cell_type": "code",
   "execution_count": 367,
   "metadata": {},
   "outputs": [],
   "source": [
    "\n",
    "df.loc[df['Troca_Celular'] == '?', 'Troca_Celular'] = np.nan"
   ]
  },
  {
   "cell_type": "code",
   "execution_count": 368,
   "metadata": {},
   "outputs": [
    {
     "data": {
      "text/plain": [
       "Conhecimento_IoT\n",
       "5                                                                                                                                                                                                                                                                                                                                                                                                                                                                                                                                                                                                                                                                                                                                                                                                                                                                                                                                                                                                                                                                                                                                                                                                                                                                                                                                                                                                                                                                                                                                                                                                                                                                                                                                                                                                                                                                                                                                                                                                                                                                                                                                                                                                                                                                                                                                                                                                                                                                                                                                                                                                                                                                                                                                                                                                                                                                                                                                                                                                                                                                                                                                                                                                                                                                                                                                                                                                                                                                                                                                                                                                                                                                                                                                                                                                                                                                                                                                                                                                                                                                                                                                                  283\n",
       "6                                                                                                                                                                                                                                                                                                                                                                                                                                                                                                                                                                                                                                                                                                                                                                                                                                                                                                                                                                                                                                                                                                                                                                                                                                                                                                                                                                                                                                                                                                                                                                                                                                                                                                                                                                                                                                                                                                                                                                                                                                                                                                                                                                                                                                                                                                                                                                                                                                                                                                                                                                                                                                                                                                                                                                                                                                                                                                                                                                                                                                                                                                                                                                                                                                                                                                                                                                                                                                                                                                                                                                                                                                                                                                                                                                                                                                                                                                                                                                                                                                                                                                                                                  251\n",
       "7                                                                                                                                                                                                                                                                                                                                                                                                                                                                                                                                                                                                                                                                                                                                                                                                                                                                                                                                                                                                                                                                                                                                                                                                                                                                                                                                                                                                                                                                                                                                                                                                                                                                                                                                                                                                                                                                                                                                                                                                                                                                                                                                                                                                                                                                                                                                                                                                                                                                                                                                                                                                                                                                                                                                                                                                                                                                                                                                                                                                                                                                                                                                                                                                                                                                                                                                                                                                                                                                                                                                                                                                                                                                                                                                                                                                                                                                                                                                                                                                                                                                                                                                                  247\n",
       "4                                                                                                                                                                                                                                                                                                                                                                                                                                                                                                                                                                                                                                                                                                                                                                                                                                                                                                                                                                                                                                                                                                                                                                                                                                                                                                                                                                                                                                                                                                                                                                                                                                                                                                                                                                                                                                                                                                                                                                                                                                                                                                                                                                                                                                                                                                                                                                                                                                                                                                                                                                                                                                                                                                                                                                                                                                                                                                                                                                                                                                                                                                                                                                                                                                                                                                                                                                                                                                                                                                                                                                                                                                                                                                                                                                                                                                                                                                                                                                                                                                                                                                                                                  237\n",
       "0                                                                                                                                                                                                                                                                                                                                                                                                                                                                                                                                                                                                                                                                                                                                                                                                                                                                                                                                                                                                                                                                                                                                                                                                                                                                                                                                                                                                                                                                                                                                                                                                                                                                                                                                                                                                                                                                                                                                                                                                                                                                                                                                                                                                                                                                                                                                                                                                                                                                                                                                                                                                                                                                                                                                                                                                                                                                                                                                                                                                                                                                                                                                                                                                                                                                                                                                                                                                                                                                                                                                                                                                                                                                                                                                                                                                                                                                                                                                                                                                                                                                                                                                                  156\n",
       "1                                                                                                                                                                                                                                                                                                                                                                                                                                                                                                                                                                                                                                                                                                                                                                                                                                                                                                                                                                                                                                                                                                                                                                                                                                                                                                                                                                                                                                                                                                                                                                                                                                                                                                                                                                                                                                                                                                                                                                                                                                                                                                                                                                                                                                                                                                                                                                                                                                                                                                                                                                                                                                                                                                                                                                                                                                                                                                                                                                                                                                                                                                                                                                                                                                                                                                                                                                                                                                                                                                                                                                                                                                                                                                                                                                                                                                                                                                                                                                                                                                                                                                                                                  155\n",
       "2                                                                                                                                                                                                                                                                                                                                                                                                                                                                                                                                                                                                                                                                                                                                                                                                                                                                                                                                                                                                                                                                                                                                                                                                                                                                                                                                                                                                                                                                                                                                                                                                                                                                                                                                                                                                                                                                                                                                                                                                                                                                                                                                                                                                                                                                                                                                                                                                                                                                                                                                                                                                                                                                                                                                                                                                                                                                                                                                                                                                                                                                                                                                                                                                                                                                                                                                                                                                                                                                                                                                                                                                                                                                                                                                                                                                                                                                                                                                                                                                                                                                                                                                                  144\n",
       "3                                                                                                                                                                                                                                                                                                                                                                                                                                                                                                                                                                                                                                                                                                                                                                                                                                                                                                                                                                                                                                                                                                                                                                                                                                                                                                                                                                                                                                                                                                                                                                                                                                                                                                                                                                                                                                                                                                                                                                                                                                                                                                                                                                                                                                                                                                                                                                                                                                                                                                                                                                                                                                                                                                                                                                                                                                                                                                                                                                                                                                                                                                                                                                                                                                                                                                                                                                                                                                                                                                                                                                                                                                                                                                                                                                                                                                                                                                                                                                                                                                                                                                                                                  141\n",
       "8                                                                                                                                                                                                                                                                                                                                                                                                                                                                                                                                                                                                                                                                                                                                                                                                                                                                                                                                                                                                                                                                                                                                                                                                                                                                                                                                                                                                                                                                                                                                                                                                                                                                                                                                                                                                                                                                                                                                                                                                                                                                                                                                                                                                                                                                                                                                                                                                                                                                                                                                                                                                                                                                                                                                                                                                                                                                                                                                                                                                                                                                                                                                                                                                                                                                                                                                                                                                                                                                                                                                                                                                                                                                                                                                                                                                                                                                                                                                                                                                                                                                                                                                                  104\n",
       "9                                                                                                                                                                                                                                                                                                                                                                                                                                                                                                                                                                                                                                                                                                                                                                                                                                                                                                                                                                                                                                                                                                                                                                                                                                                                                                                                                                                                                                                                                                                                                                                                                                                                                                                                                                                                                                                                                                                                                                                                                                                                                                                                                                                                                                                                                                                                                                                                                                                                                                                                                                                                                                                                                                                                                                                                                                                                                                                                                                                                                                                                                                                                                                                                                                                                                                                                                                                                                                                                                                                                                                                                                                                                                                                                                                                                                                                                                                                                                                                                                                                                                                                                                  103\n",
       "10                                                                                                                                                                                                                                                                                                                                                                                                                                                                                                                                                                                                                                                                                                                                                                                                                                                                                                                                                                                                                                                                                                                                                                                                                                                                                                                                                                                                                                                                                                                                                                                                                                                                                                                                                                                                                                                                                                                                                                                                                                                                                                                                                                                                                                                                                                                                                                                                                                                                                                                                                                                                                                                                                                                                                                                                                                                                                                                                                                                                                                                                                                                                                                                                                                                                                                                                                                                                                                                                                                                                                                                                                                                                                                                                                                                                                                                                                                                                                                                                                                                                                                                                                  92\n",
       "Yeah Yeah, I'm out that Brooklyn, now I'm down in Tribeca Right next to De Niro, but I'll be hood forever I'm the new Sinatra, and since I made it here I can make it anywhere, yeah, they love me everywhere I used to cop in Harlem, hola, my Dominicanos (dímelo) Right there up on Broadway, brought me back to that McDonald's Took it to my stashbox, 560 State Street Catch me in the kitchen like a Simmons whippin' pastry Cruisin' down 8th St, off-white Lexus Drivin' so slow, but BK is from Texas Me, I'm out that Bed-Stuy, home of that boy Biggie Now I live on Billboard and I brought my boys with me Say what up to Ty-Ty, still sippin' Mai Tais Sittin' courtside, Knicks and Nets give me high five Nigga, I be Spike'd out, I could trip a referee (come on, come on, come on) Tell by my attitude that I'm most definitely from In New York (ayy, ah-ha) (uh, yeah) Concrete jungle (yeah) where dreams are made of There's nothin' you can't do (yeah) (okay) Now you're in New York (ah-ha, ah-ha, ah-ha) (uh, yeah) These streets will make you feel brand new (new) Big lights will inspire you (come on) (okay) Let's hear it for New York (you're welcome, OG) (uh) New York (yeah), New York (uh) (I made you hot, nigga) Catch me at the X with OG at a Yankee game Shit, I made the Yankee hat more famous than a Yankee can You should know I bleed blue, but I ain't a Crip though But I got a gang of niggas walkin' with my clique though Welcome to the melting pot, corners where we sellin' rock Afrika Bambataa shit, home of the hip-hop Yellow cab, gypsy cab, dollar cab, holla back For foreigners it ain't fair, they act like they forgot how to act Eight million stories, out there in the naked City is a pity, half of y'all won't make it Me, I got a plug, Special Ed, \"I Got It Made\" If Jeezy's payin' Lebron, I'm payin' Dwyane Wade Three dice Cee-lo, three-card Monte Labor Day Parade, rest in peace Bob Marley Statue of Liberty, long live the World Trade (come on, come on, come on) Long live the king, yo, I'm from the Empire State that's In New York (ayy) (uh, yeah) Concrete jungle (yeah) where dreams are made of There's nothin' you can't do (that boy good) (okay) Now you're in New York (uh, yeah) (Welcome to the bright lights, baby) These streets will make you feel brand new Big lights will inspire you (okay) Let's hear it for New York (uh) New York (yeah), New York (uh) Lights is blinding, girls need blinders So they can step out of bounds quick, the sidelines is Lined with casualties, who sip the life casually Then gradually become worse, don't bite the apple, Eve Caught up in the in-crowd, now you're in style Into the winter gets cold, en vogue, with your skin out City of sin, it's a pity on a whim Good girls gone bad, the city's filled with them Mommy took a bus trip, now she got her bust out Everybody ride her, just like a bus route \"Hail Mary\" to the city, you're a virgin And Jesus can't save you, life starts when the church end Came here for school, graduated to the high life Ball players, rap stars, addicted to the limelight MDMA got you feelin' like a champion (come on, come on, come on) The city never sleeps, better slip you an Ambien In New York (ayy, oh) (uh, yeah) Concrete jungle where dreams are made of There's nothin' you can't do (okay) Now you're in New York (uh, yeah) These streets will make you feel brand new Big lights will inspire you (okay) Let's hear it for New York (uh) New York (yeah), New York (uh) One hand in the air for the big city (uh) Street lights, big dreams, all lookin' pretty (uh) No place in the world that could compare (nah) Put your lighters in the air everybody say \"Yeah, yeah\" (come on, come on, come on) \"Yeah, yeah\" (I'm from New York) In New York (uh, yeah) (ohh) Concrete jungle where dreams are made of There's nothin' you can't do (okay) Now you're in New York (uh, yeah) These streets will make you feel brand new Big lights will inspire you (okay) Let's hear it for New York (uh) New York (yeah), New York (uh)      1\n",
       "Name: count, dtype: int64"
      ]
     },
     "execution_count": 368,
     "metadata": {},
     "output_type": "execute_result"
    }
   ],
   "source": [
    "df['Conhecimento_IoT'].value_counts()"
   ]
  },
  {
   "cell_type": "code",
   "execution_count": 369,
   "metadata": {},
   "outputs": [
    {
     "name": "stdout",
     "output_type": "stream",
     "text": [
      "Conhecimento_IoT\n",
      "NaN     3015\n",
      "5.0      283\n",
      "6.0      251\n",
      "7.0      247\n",
      "4.0      237\n",
      "0.0      156\n",
      "1.0      155\n",
      "2.0      144\n",
      "3.0      141\n",
      "8.0      104\n",
      "9.0      103\n",
      "10.0      92\n",
      "Name: count, dtype: int64\n"
     ]
    }
   ],
   "source": [
    "\n",
    "limite_caracteres = 1000\n",
    "\n",
    "df['Conhecimento_IoT'] = df['Conhecimento_IoT'].apply(\n",
    "    lambda x: np.nan if isinstance(x, str) and len(x) > limite_caracteres else x\n",
    ")\n",
    "\n",
    "\n",
    "print(df['Conhecimento_IoT'].value_counts(dropna=False))\n"
   ]
  },
  {
   "attachments": {},
   "cell_type": "markdown",
   "metadata": {},
   "source": [
    "# Colunas escolhidas pelo grupo para a clusterização"
   ]
  },
  {
   "cell_type": "code",
   "execution_count": 370,
   "metadata": {},
   "outputs": [
    {
     "data": {
      "text/html": [
       "<div>\n",
       "<style scoped>\n",
       "    .dataframe tbody tr th:only-of-type {\n",
       "        vertical-align: middle;\n",
       "    }\n",
       "\n",
       "    .dataframe tbody tr th {\n",
       "        vertical-align: top;\n",
       "    }\n",
       "\n",
       "    .dataframe thead th {\n",
       "        text-align: right;\n",
       "    }\n",
       "</style>\n",
       "<table border=\"1\" class=\"dataframe\">\n",
       "  <thead>\n",
       "    <tr style=\"text-align: right;\">\n",
       "      <th></th>\n",
       "      <th>Ocupacao</th>\n",
       "      <th>Idade</th>\n",
       "      <th>Renda_Mensal</th>\n",
       "      <th>Gasto_Internet</th>\n",
       "      <th>Regiao</th>\n",
       "      <th>Genero</th>\n",
       "      <th>Plano_Atual</th>\n",
       "      <th>Motivo_Troca</th>\n",
       "    </tr>\n",
       "  </thead>\n",
       "  <tbody>\n",
       "    <tr>\n",
       "      <th>0</th>\n",
       "      <td>NaN</td>\n",
       "      <td>60.0</td>\n",
       "      <td>5681.0</td>\n",
       "      <td>368.0</td>\n",
       "      <td>Sudeste</td>\n",
       "      <td>Feminino</td>\n",
       "      <td>Basico</td>\n",
       "      <td>Preco Alto</td>\n",
       "    </tr>\n",
       "    <tr>\n",
       "      <th>1</th>\n",
       "      <td>NaN</td>\n",
       "      <td>21.0</td>\n",
       "      <td>6172.0</td>\n",
       "      <td>NaN</td>\n",
       "      <td>NaN</td>\n",
       "      <td>Masculino</td>\n",
       "      <td>Basico</td>\n",
       "      <td>NaN</td>\n",
       "    </tr>\n",
       "    <tr>\n",
       "      <th>2</th>\n",
       "      <td>NaN</td>\n",
       "      <td>21.0</td>\n",
       "      <td>NaN</td>\n",
       "      <td>NaN</td>\n",
       "      <td>NaN</td>\n",
       "      <td>Feminino</td>\n",
       "      <td>NaN</td>\n",
       "      <td>Atendimento Ruim</td>\n",
       "    </tr>\n",
       "    <tr>\n",
       "      <th>3</th>\n",
       "      <td>NaN</td>\n",
       "      <td>34.0</td>\n",
       "      <td>3782.0</td>\n",
       "      <td>394.0</td>\n",
       "      <td>NaN</td>\n",
       "      <td>NaN</td>\n",
       "      <td>Basico</td>\n",
       "      <td>Atendimento Ruim</td>\n",
       "    </tr>\n",
       "    <tr>\n",
       "      <th>4</th>\n",
       "      <td>NaN</td>\n",
       "      <td>NaN</td>\n",
       "      <td>NaN</td>\n",
       "      <td>339.0</td>\n",
       "      <td>Nordeste</td>\n",
       "      <td>Masculino</td>\n",
       "      <td>Basico</td>\n",
       "      <td>NaN</td>\n",
       "    </tr>\n",
       "  </tbody>\n",
       "</table>\n",
       "</div>"
      ],
      "text/plain": [
       "  Ocupacao  Idade  Renda_Mensal  Gasto_Internet    Regiao     Genero  \\\n",
       "0      NaN   60.0        5681.0           368.0   Sudeste   Feminino   \n",
       "1      NaN   21.0        6172.0             NaN       NaN  Masculino   \n",
       "2      NaN   21.0           NaN             NaN       NaN   Feminino   \n",
       "3      NaN   34.0        3782.0           394.0       NaN        NaN   \n",
       "4      NaN    NaN           NaN           339.0  Nordeste  Masculino   \n",
       "\n",
       "  Plano_Atual      Motivo_Troca  \n",
       "0      Basico        Preco Alto  \n",
       "1      Basico               NaN  \n",
       "2         NaN  Atendimento Ruim  \n",
       "3      Basico  Atendimento Ruim  \n",
       "4      Basico               NaN  "
      ]
     },
     "execution_count": 370,
     "metadata": {},
     "output_type": "execute_result"
    }
   ],
   "source": [
    "df_escolhidos = df[['Ocupacao', 'Idade', 'Renda_Mensal', 'Gasto_Internet', 'Regiao', 'Genero', 'Plano_Atual', 'Motivo_Troca']]\n",
    "df_escolhidos.head()\n"
   ]
  },
  {
   "cell_type": "code",
   "execution_count": 371,
   "metadata": {},
   "outputs": [
    {
     "data": {
      "text/html": [
       "<div>\n",
       "<style scoped>\n",
       "    .dataframe tbody tr th:only-of-type {\n",
       "        vertical-align: middle;\n",
       "    }\n",
       "\n",
       "    .dataframe tbody tr th {\n",
       "        vertical-align: top;\n",
       "    }\n",
       "\n",
       "    .dataframe thead th {\n",
       "        text-align: right;\n",
       "    }\n",
       "</style>\n",
       "<table border=\"1\" class=\"dataframe\">\n",
       "  <thead>\n",
       "    <tr style=\"text-align: right;\">\n",
       "      <th></th>\n",
       "      <th>Idade</th>\n",
       "      <th>Renda_Mensal</th>\n",
       "      <th>Gasto_Internet</th>\n",
       "    </tr>\n",
       "  </thead>\n",
       "  <tbody>\n",
       "    <tr>\n",
       "      <th>count</th>\n",
       "      <td>1905.000000</td>\n",
       "      <td>1939.000000</td>\n",
       "      <td>1914.000000</td>\n",
       "    </tr>\n",
       "    <tr>\n",
       "      <th>mean</th>\n",
       "      <td>43.622572</td>\n",
       "      <td>9626.135637</td>\n",
       "      <td>274.261233</td>\n",
       "    </tr>\n",
       "    <tr>\n",
       "      <th>std</th>\n",
       "      <td>17.288482</td>\n",
       "      <td>9663.569508</td>\n",
       "      <td>114.884545</td>\n",
       "    </tr>\n",
       "    <tr>\n",
       "      <th>min</th>\n",
       "      <td>5.000000</td>\n",
       "      <td>-500.000000</td>\n",
       "      <td>51.000000</td>\n",
       "    </tr>\n",
       "    <tr>\n",
       "      <th>25%</th>\n",
       "      <td>31.000000</td>\n",
       "      <td>4342.000000</td>\n",
       "      <td>187.000000</td>\n",
       "    </tr>\n",
       "    <tr>\n",
       "      <th>50%</th>\n",
       "      <td>43.000000</td>\n",
       "      <td>7662.000000</td>\n",
       "      <td>263.000000</td>\n",
       "    </tr>\n",
       "    <tr>\n",
       "      <th>75%</th>\n",
       "      <td>56.000000</td>\n",
       "      <td>13689.500000</td>\n",
       "      <td>365.000000</td>\n",
       "    </tr>\n",
       "    <tr>\n",
       "      <th>max</th>\n",
       "      <td>120.000000</td>\n",
       "      <td>100000.000000</td>\n",
       "      <td>500.000000</td>\n",
       "    </tr>\n",
       "  </tbody>\n",
       "</table>\n",
       "</div>"
      ],
      "text/plain": [
       "             Idade   Renda_Mensal  Gasto_Internet\n",
       "count  1905.000000    1939.000000     1914.000000\n",
       "mean     43.622572    9626.135637      274.261233\n",
       "std      17.288482    9663.569508      114.884545\n",
       "min       5.000000    -500.000000       51.000000\n",
       "25%      31.000000    4342.000000      187.000000\n",
       "50%      43.000000    7662.000000      263.000000\n",
       "75%      56.000000   13689.500000      365.000000\n",
       "max     120.000000  100000.000000      500.000000"
      ]
     },
     "execution_count": 371,
     "metadata": {},
     "output_type": "execute_result"
    }
   ],
   "source": [
    "df_escolhidos.describe()"
   ]
  },
  {
   "attachments": {},
   "cell_type": "markdown",
   "metadata": {},
   "source": [
    "# Lidando com Outliers"
   ]
  },
  {
   "cell_type": "code",
   "execution_count": 372,
   "metadata": {},
   "outputs": [
    {
     "data": {
      "image/png": "[encoded data removed]",
      "text/plain": [
       "<Figure size 640x480 with 1 Axes>"
      ]
     },
     "metadata": {},
     "output_type": "display_data"
    }
   ],
   "source": [
    "import seaborn as sns\n",
    "import matplotlib.pyplot as plt\n",
    "\n",
    "sns.boxplot(x=df_escolhidos['Idade'])\n",
    "plt.show()"
   ]
  },
  {
   "cell_type": "code",
   "execution_count": 373,
   "metadata": {},
   "outputs": [
    {
     "name": "stderr",
     "output_type": "stream",
     "text": [
      "/var/folders/53/jx83wpkx7hgdbvxfpv0hmf8w0000gq/T/ipykernel_24384/791149785.py:1: SettingWithCopyWarning: \n",
      "A value is trying to be set on a copy of a slice from a DataFrame.\n",
      "Try using .loc[row_indexer,col_indexer] = value instead\n",
      "\n",
      "See the caveats in the documentation: https://pandas.pydata.org/pandas-docs/stable/user_guide/indexing.html#returning-a-view-versus-a-copy\n",
      "  df_escolhidos['Idade'] = df_escolhidos['Idade'].replace(120,70)\n",
      "/var/folders/53/jx83wpkx7hgdbvxfpv0hmf8w0000gq/T/ipykernel_24384/791149785.py:2: SettingWithCopyWarning: \n",
      "A value is trying to be set on a copy of a slice from a DataFrame.\n",
      "Try using .loc[row_indexer,col_indexer] = value instead\n",
      "\n",
      "See the caveats in the documentation: https://pandas.pydata.org/pandas-docs/stable/user_guide/indexing.html#returning-a-view-versus-a-copy\n",
      "  df_escolhidos['Idade'] = df_escolhidos['Idade'].replace(5,18)\n"
     ]
    },
    {
     "data": {
      "image/png": "[encoded data removed]",
      "text/plain": [
       "<Figure size 640x480 with 1 Axes>"
      ]
     },
     "metadata": {},
     "output_type": "display_data"
    }
   ],
   "source": [
    "df_escolhidos['Idade'] = df_escolhidos['Idade'].replace(120,70)\n",
    "df_escolhidos['Idade'] = df_escolhidos['Idade'].replace(5,18)\n",
    "\n",
    "import seaborn as sns\n",
    "import matplotlib.pyplot as plt\n",
    "\n",
    "sns.boxplot(x=df_escolhidos['Idade'])\n",
    "plt.show()"
   ]
  },
  {
   "cell_type": "code",
   "execution_count": 374,
   "metadata": {},
   "outputs": [
    {
     "name": "stderr",
     "output_type": "stream",
     "text": [
      "/var/folders/53/jx83wpkx7hgdbvxfpv0hmf8w0000gq/T/ipykernel_24384/1087627321.py:2: SettingWithCopyWarning: \n",
      "A value is trying to be set on a copy of a slice from a DataFrame.\n",
      "Try using .loc[row_indexer,col_indexer] = value instead\n",
      "\n",
      "See the caveats in the documentation: https://pandas.pydata.org/pandas-docs/stable/user_guide/indexing.html#returning-a-view-versus-a-copy\n",
      "  df_escolhidos['Renda_Mensal'] = df_escolhidos['Renda_Mensal'].replace(100000, 19980)\n",
      "/var/folders/53/jx83wpkx7hgdbvxfpv0hmf8w0000gq/T/ipykernel_24384/1087627321.py:3: SettingWithCopyWarning: \n",
      "A value is trying to be set on a copy of a slice from a DataFrame.\n",
      "Try using .loc[row_indexer,col_indexer] = value instead\n",
      "\n",
      "See the caveats in the documentation: https://pandas.pydata.org/pandas-docs/stable/user_guide/indexing.html#returning-a-view-versus-a-copy\n",
      "  df_escolhidos['Renda_Mensal'] = df_escolhidos['Renda_Mensal'].replace(-500, 1324)\n"
     ]
    },
    {
     "data": {
      "image/png": "[encoded data removed]",
      "text/plain": [
       "<Figure size 640x480 with 1 Axes>"
      ]
     },
     "metadata": {},
     "output_type": "display_data"
    }
   ],
   "source": [
    "import seaborn as sns\n",
    "df_escolhidos['Renda_Mensal'] = df_escolhidos['Renda_Mensal'].replace(100000, 19980)\n",
    "df_escolhidos['Renda_Mensal'] = df_escolhidos['Renda_Mensal'].replace(-500, 1324)\n",
    "\n",
    "sns.boxplot(x=df_escolhidos['Renda_Mensal'])\n",
    "plt.show()"
   ]
  },
  {
   "cell_type": "code",
   "execution_count": 378,
   "metadata": {},
   "outputs": [],
   "source": [
    "import pandas as pd\n",
    "import numpy as np\n",
    "from sklearn.experimental import enable_iterative_imputer\n",
    "from sklearn.impute import IterativeImputer\n",
    "from sklearn.preprocessing import LabelEncoder\n",
    "from sklearn.ensemble import RandomForestRegressor\n",
    "\n",
    "def impute_mixed_data(df):\n",
    "    \"\"\"\n",
    "    Impute missing values in a dataset with mixed data types using IterativeImputer.\n",
    "    \n",
    "    Args:\n",
    "        df (pd.DataFrame): Input dataframe with missing values\n",
    "    \n",
    "    Returns:\n",
    "        pd.DataFrame: Dataframe with imputed values\n",
    "    \"\"\"\n",
    "    # Create copy to avoid modifying original data\n",
    "    df_imp = df.copy()\n",
    "    \n",
    "    # Identify numeric and categorical columns\n",
    "    numeric_cols = df_imp.select_dtypes(include=[np.number]).columns\n",
    "    categorical_cols = df_imp.select_dtypes(exclude=[np.number]).columns\n",
    "    \n",
    "    # Handle categorical variables\n",
    "    label_encoders = {}\n",
    "    for col in categorical_cols:\n",
    "        le = LabelEncoder()\n",
    "        # Fit on non-null values\n",
    "        non_null_data = df_imp[col].dropna()\n",
    "        le.fit(non_null_data)\n",
    "        # Transform all data\n",
    "        df_imp[col] = pd.Series(le.transform(non_null_data), index=non_null_data.index)\n",
    "        label_encoders[col] = le\n",
    "    \n",
    "    # Initialize and fit IterativeImputer\n",
    "    imputer = IterativeImputer(\n",
    "        estimator=RandomForestRegressor(n_estimators=100),\n",
    "        max_iter=10,\n",
    "        random_state=42\n",
    "    )\n",
    "    \n",
    "    # Fit and transform\n",
    "    imputed_data = imputer.fit_transform(df_imp)\n",
    "    \n",
    "    # Convert back to DataFrame\n",
    "    df_imputed = pd.DataFrame(imputed_data, columns=df_imp.columns, index=df_imp.index)\n",
    "    \n",
    "    # Reverse transform categorical variables\n",
    "    for col in categorical_cols:\n",
    "        df_imputed[col] = label_encoders[col].inverse_transform(df_imputed[col].round().astype(int))\n",
    "    \n",
    "    return df_imputed\n",
    "\n",
    "# Usage example\n",
    "# imputed_df = impute_mixed_data(df_escolhidos)\n"
   ]
  },
  {
   "cell_type": "code",
   "execution_count": 379,
   "metadata": {},
   "outputs": [
    {
     "name": "stderr",
     "output_type": "stream",
     "text": [
      "/Users/jgfaraco/Insper Junior/Clustering/Telecconect_analysis/env/lib/python3.13/site-packages/sklearn/impute/_iterative.py:895: ConvergenceWarning: [IterativeImputer] Early stopping criterion not reached.\n",
      "  warnings.warn(\n"
     ]
    }
   ],
   "source": [
    "df_escolhido_imputed = impute_mixed_data(df_escolhidos)"
   ]
  },
  {
   "cell_type": "code",
   "execution_count": 381,
   "metadata": {},
   "outputs": [],
   "source": [
    "df.to_csv('base_marketing.csv')"
   ]
  },
  {
   "cell_type": "code",
   "execution_count": null,
   "metadata": {},
   "outputs": [
    {
     "ename": "ValueError",
     "evalue": "Input y contains NaN.",
     "output_type": "error",
     "traceback": [
      "\u001b[0;31m---------------------------------------------------------------------------\u001b[0m",
      "\u001b[0;31mValueError\u001b[0m                                Traceback (most recent call last)",
      "Cell \u001b[0;32mIn[330], line 53\u001b[0m\n\u001b[1;32m     50\u001b[0m     \u001b[39mreturn\u001b[39;00m model, X_test, y_test, y_pred, feature_importance\n\u001b[1;32m     52\u001b[0m \u001b[39m# Example usage:\u001b[39;00m\n\u001b[0;32m---> 53\u001b[0m model, X_test, y_test, predictions, importance \u001b[39m=\u001b[39m predict_with_random_forest(\n\u001b[1;32m     54\u001b[0m     df\u001b[39m=\u001b[39;49mdf_escolhidos,\n\u001b[1;32m     55\u001b[0m     target_column\u001b[39m=\u001b[39;49m\u001b[39m'\u001b[39;49m\u001b[39mIdade\u001b[39;49m\u001b[39m'\u001b[39;49m\n\u001b[1;32m     56\u001b[0m )\n",
      "Cell \u001b[0;32mIn[330], line 39\u001b[0m, in \u001b[0;36mpredict_with_random_forest\u001b[0;34m(df, target_column, test_size, random_state)\u001b[0m\n\u001b[1;32m     37\u001b[0m \u001b[39m# Train model\u001b[39;00m\n\u001b[1;32m     38\u001b[0m model \u001b[39m=\u001b[39m RandomForestRegressor(random_state\u001b[39m=\u001b[39mrandom_state)\n\u001b[0;32m---> 39\u001b[0m model\u001b[39m.\u001b[39;49mfit(X_train, y_train)\n\u001b[1;32m     41\u001b[0m \u001b[39m# Make predictions\u001b[39;00m\n\u001b[1;32m     42\u001b[0m y_pred \u001b[39m=\u001b[39m model\u001b[39m.\u001b[39mpredict(X_test)\n",
      "File \u001b[0;32m~/Insper Junior/Clustering/Telecconect_analysis/env/lib/python3.13/site-packages/sklearn/base.py:1389\u001b[0m, in \u001b[0;36m_fit_context.<locals>.decorator.<locals>.wrapper\u001b[0;34m(estimator, *args, **kwargs)\u001b[0m\n\u001b[1;32m   1382\u001b[0m     estimator\u001b[39m.\u001b[39m_validate_params()\n\u001b[1;32m   1384\u001b[0m \u001b[39mwith\u001b[39;00m config_context(\n\u001b[1;32m   1385\u001b[0m     skip_parameter_validation\u001b[39m=\u001b[39m(\n\u001b[1;32m   1386\u001b[0m         prefer_skip_nested_validation \u001b[39mor\u001b[39;00m global_skip_validation\n\u001b[1;32m   1387\u001b[0m     )\n\u001b[1;32m   1388\u001b[0m ):\n\u001b[0;32m-> 1389\u001b[0m     \u001b[39mreturn\u001b[39;00m fit_method(estimator, \u001b[39m*\u001b[39;49margs, \u001b[39m*\u001b[39;49m\u001b[39m*\u001b[39;49mkwargs)\n",
      "File \u001b[0;32m~/Insper Junior/Clustering/Telecconect_analysis/env/lib/python3.13/site-packages/sklearn/ensemble/_forest.py:360\u001b[0m, in \u001b[0;36mBaseForest.fit\u001b[0;34m(self, X, y, sample_weight)\u001b[0m\n\u001b[1;32m    357\u001b[0m \u001b[39mif\u001b[39;00m issparse(y):\n\u001b[1;32m    358\u001b[0m     \u001b[39mraise\u001b[39;00m \u001b[39mValueError\u001b[39;00m(\u001b[39m\"\u001b[39m\u001b[39msparse multilabel-indicator for y is not supported.\u001b[39m\u001b[39m\"\u001b[39m)\n\u001b[0;32m--> 360\u001b[0m X, y \u001b[39m=\u001b[39m validate_data(\n\u001b[1;32m    361\u001b[0m     \u001b[39mself\u001b[39;49m,\n\u001b[1;32m    362\u001b[0m     X,\n\u001b[1;32m    363\u001b[0m     y,\n\u001b[1;32m    364\u001b[0m     multi_output\u001b[39m=\u001b[39;49m\u001b[39mTrue\u001b[39;49;00m,\n\u001b[1;32m    365\u001b[0m     accept_sparse\u001b[39m=\u001b[39;49m\u001b[39m\"\u001b[39;49m\u001b[39mcsc\u001b[39;49m\u001b[39m\"\u001b[39;49m,\n\u001b[1;32m    366\u001b[0m     dtype\u001b[39m=\u001b[39;49mDTYPE,\n\u001b[1;32m    367\u001b[0m     ensure_all_finite\u001b[39m=\u001b[39;49m\u001b[39mFalse\u001b[39;49;00m,\n\u001b[1;32m    368\u001b[0m )\n\u001b[1;32m    369\u001b[0m \u001b[39m# _compute_missing_values_in_feature_mask checks if X has missing values and\u001b[39;00m\n\u001b[1;32m    370\u001b[0m \u001b[39m# will raise an error if the underlying tree base estimator can't handle missing\u001b[39;00m\n\u001b[1;32m    371\u001b[0m \u001b[39m# values. Only the criterion is required to determine if the tree supports\u001b[39;00m\n\u001b[1;32m    372\u001b[0m \u001b[39m# missing values.\u001b[39;00m\n\u001b[1;32m    373\u001b[0m estimator \u001b[39m=\u001b[39m \u001b[39mtype\u001b[39m(\u001b[39mself\u001b[39m\u001b[39m.\u001b[39mestimator)(criterion\u001b[39m=\u001b[39m\u001b[39mself\u001b[39m\u001b[39m.\u001b[39mcriterion)\n",
      "File \u001b[0;32m~/Insper Junior/Clustering/Telecconect_analysis/env/lib/python3.13/site-packages/sklearn/utils/validation.py:2961\u001b[0m, in \u001b[0;36mvalidate_data\u001b[0;34m(_estimator, X, y, reset, validate_separately, skip_check_array, **check_params)\u001b[0m\n\u001b[1;32m   2959\u001b[0m         y \u001b[39m=\u001b[39m check_array(y, input_name\u001b[39m=\u001b[39m\u001b[39m\"\u001b[39m\u001b[39my\u001b[39m\u001b[39m\"\u001b[39m, \u001b[39m*\u001b[39m\u001b[39m*\u001b[39mcheck_y_params)\n\u001b[1;32m   2960\u001b[0m     \u001b[39melse\u001b[39;00m:\n\u001b[0;32m-> 2961\u001b[0m         X, y \u001b[39m=\u001b[39m check_X_y(X, y, \u001b[39m*\u001b[39;49m\u001b[39m*\u001b[39;49mcheck_params)\n\u001b[1;32m   2962\u001b[0m     out \u001b[39m=\u001b[39m X, y\n\u001b[1;32m   2964\u001b[0m \u001b[39mif\u001b[39;00m \u001b[39mnot\u001b[39;00m no_val_X \u001b[39mand\u001b[39;00m check_params\u001b[39m.\u001b[39mget(\u001b[39m\"\u001b[39m\u001b[39mensure_2d\u001b[39m\u001b[39m\"\u001b[39m, \u001b[39mTrue\u001b[39;00m):\n",
      "File \u001b[0;32m~/Insper Junior/Clustering/Telecconect_analysis/env/lib/python3.13/site-packages/sklearn/utils/validation.py:1387\u001b[0m, in \u001b[0;36mcheck_X_y\u001b[0;34m(X, y, accept_sparse, accept_large_sparse, dtype, order, copy, force_writeable, force_all_finite, ensure_all_finite, ensure_2d, allow_nd, multi_output, ensure_min_samples, ensure_min_features, y_numeric, estimator)\u001b[0m\n\u001b[1;32m   1368\u001b[0m ensure_all_finite \u001b[39m=\u001b[39m _deprecate_force_all_finite(force_all_finite, ensure_all_finite)\n\u001b[1;32m   1370\u001b[0m X \u001b[39m=\u001b[39m check_array(\n\u001b[1;32m   1371\u001b[0m     X,\n\u001b[1;32m   1372\u001b[0m     accept_sparse\u001b[39m=\u001b[39maccept_sparse,\n\u001b[0;32m   (...)\u001b[0m\n\u001b[1;32m   1384\u001b[0m     input_name\u001b[39m=\u001b[39m\u001b[39m\"\u001b[39m\u001b[39mX\u001b[39m\u001b[39m\"\u001b[39m,\n\u001b[1;32m   1385\u001b[0m )\n\u001b[0;32m-> 1387\u001b[0m y \u001b[39m=\u001b[39m _check_y(y, multi_output\u001b[39m=\u001b[39;49mmulti_output, y_numeric\u001b[39m=\u001b[39;49my_numeric, estimator\u001b[39m=\u001b[39;49mestimator)\n\u001b[1;32m   1389\u001b[0m check_consistent_length(X, y)\n\u001b[1;32m   1391\u001b[0m \u001b[39mreturn\u001b[39;00m X, y\n",
      "File \u001b[0;32m~/Insper Junior/Clustering/Telecconect_analysis/env/lib/python3.13/site-packages/sklearn/utils/validation.py:1397\u001b[0m, in \u001b[0;36m_check_y\u001b[0;34m(y, multi_output, y_numeric, estimator)\u001b[0m\n\u001b[1;32m   1395\u001b[0m \u001b[39m\u001b[39m\u001b[39m\"\"\"Isolated part of check_X_y dedicated to y validation\"\"\"\u001b[39;00m\n\u001b[1;32m   1396\u001b[0m \u001b[39mif\u001b[39;00m multi_output:\n\u001b[0;32m-> 1397\u001b[0m     y \u001b[39m=\u001b[39m check_array(\n\u001b[1;32m   1398\u001b[0m         y,\n\u001b[1;32m   1399\u001b[0m         accept_sparse\u001b[39m=\u001b[39;49m\u001b[39m\"\u001b[39;49m\u001b[39mcsr\u001b[39;49m\u001b[39m\"\u001b[39;49m,\n\u001b[1;32m   1400\u001b[0m         ensure_all_finite\u001b[39m=\u001b[39;49m\u001b[39mTrue\u001b[39;49;00m,\n\u001b[1;32m   1401\u001b[0m         ensure_2d\u001b[39m=\u001b[39;49m\u001b[39mFalse\u001b[39;49;00m,\n\u001b[1;32m   1402\u001b[0m         dtype\u001b[39m=\u001b[39;49m\u001b[39mNone\u001b[39;49;00m,\n\u001b[1;32m   1403\u001b[0m         input_name\u001b[39m=\u001b[39;49m\u001b[39m\"\u001b[39;49m\u001b[39my\u001b[39;49m\u001b[39m\"\u001b[39;49m,\n\u001b[1;32m   1404\u001b[0m         estimator\u001b[39m=\u001b[39;49mestimator,\n\u001b[1;32m   1405\u001b[0m     )\n\u001b[1;32m   1406\u001b[0m \u001b[39melse\u001b[39;00m:\n\u001b[1;32m   1407\u001b[0m     estimator_name \u001b[39m=\u001b[39m _check_estimator_name(estimator)\n",
      "File \u001b[0;32m~/Insper Junior/Clustering/Telecconect_analysis/env/lib/python3.13/site-packages/sklearn/utils/validation.py:1107\u001b[0m, in \u001b[0;36mcheck_array\u001b[0;34m(array, accept_sparse, accept_large_sparse, dtype, order, copy, force_writeable, force_all_finite, ensure_all_finite, ensure_non_negative, ensure_2d, allow_nd, ensure_min_samples, ensure_min_features, estimator, input_name)\u001b[0m\n\u001b[1;32m   1101\u001b[0m     \u001b[39mraise\u001b[39;00m \u001b[39mValueError\u001b[39;00m(\n\u001b[1;32m   1102\u001b[0m         \u001b[39m\"\u001b[39m\u001b[39mFound array with dim \u001b[39m\u001b[39m%d\u001b[39;00m\u001b[39m. \u001b[39m\u001b[39m%s\u001b[39;00m\u001b[39m expected <= 2.\u001b[39m\u001b[39m\"\u001b[39m\n\u001b[1;32m   1103\u001b[0m         \u001b[39m%\u001b[39m (array\u001b[39m.\u001b[39mndim, estimator_name)\n\u001b[1;32m   1104\u001b[0m     )\n\u001b[1;32m   1106\u001b[0m \u001b[39mif\u001b[39;00m ensure_all_finite:\n\u001b[0;32m-> 1107\u001b[0m     _assert_all_finite(\n\u001b[1;32m   1108\u001b[0m         array,\n\u001b[1;32m   1109\u001b[0m         input_name\u001b[39m=\u001b[39;49minput_name,\n\u001b[1;32m   1110\u001b[0m         estimator_name\u001b[39m=\u001b[39;49mestimator_name,\n\u001b[1;32m   1111\u001b[0m         allow_nan\u001b[39m=\u001b[39;49mensure_all_finite \u001b[39m==\u001b[39;49m \u001b[39m\"\u001b[39;49m\u001b[39mallow-nan\u001b[39;49m\u001b[39m\"\u001b[39;49m,\n\u001b[1;32m   1112\u001b[0m     )\n\u001b[1;32m   1114\u001b[0m \u001b[39mif\u001b[39;00m copy:\n\u001b[1;32m   1115\u001b[0m     \u001b[39mif\u001b[39;00m _is_numpy_namespace(xp):\n\u001b[1;32m   1116\u001b[0m         \u001b[39m# only make a copy if `array` and `array_orig` may share memory`\u001b[39;00m\n",
      "File \u001b[0;32m~/Insper Junior/Clustering/Telecconect_analysis/env/lib/python3.13/site-packages/sklearn/utils/validation.py:120\u001b[0m, in \u001b[0;36m_assert_all_finite\u001b[0;34m(X, allow_nan, msg_dtype, estimator_name, input_name)\u001b[0m\n\u001b[1;32m    117\u001b[0m \u001b[39mif\u001b[39;00m first_pass_isfinite:\n\u001b[1;32m    118\u001b[0m     \u001b[39mreturn\u001b[39;00m\n\u001b[0;32m--> 120\u001b[0m _assert_all_finite_element_wise(\n\u001b[1;32m    121\u001b[0m     X,\n\u001b[1;32m    122\u001b[0m     xp\u001b[39m=\u001b[39;49mxp,\n\u001b[1;32m    123\u001b[0m     allow_nan\u001b[39m=\u001b[39;49mallow_nan,\n\u001b[1;32m    124\u001b[0m     msg_dtype\u001b[39m=\u001b[39;49mmsg_dtype,\n\u001b[1;32m    125\u001b[0m     estimator_name\u001b[39m=\u001b[39;49mestimator_name,\n\u001b[1;32m    126\u001b[0m     input_name\u001b[39m=\u001b[39;49minput_name,\n\u001b[1;32m    127\u001b[0m )\n",
      "File \u001b[0;32m~/Insper Junior/Clustering/Telecconect_analysis/env/lib/python3.13/site-packages/sklearn/utils/validation.py:169\u001b[0m, in \u001b[0;36m_assert_all_finite_element_wise\u001b[0;34m(X, xp, allow_nan, msg_dtype, estimator_name, input_name)\u001b[0m\n\u001b[1;32m    152\u001b[0m \u001b[39mif\u001b[39;00m estimator_name \u001b[39mand\u001b[39;00m input_name \u001b[39m==\u001b[39m \u001b[39m\"\u001b[39m\u001b[39mX\u001b[39m\u001b[39m\"\u001b[39m \u001b[39mand\u001b[39;00m has_nan_error:\n\u001b[1;32m    153\u001b[0m     \u001b[39m# Improve the error message on how to handle missing values in\u001b[39;00m\n\u001b[1;32m    154\u001b[0m     \u001b[39m# scikit-learn.\u001b[39;00m\n\u001b[1;32m    155\u001b[0m     msg_err \u001b[39m+\u001b[39m\u001b[39m=\u001b[39m (\n\u001b[1;32m    156\u001b[0m         \u001b[39mf\u001b[39m\u001b[39m\"\u001b[39m\u001b[39m\\n\u001b[39;00m\u001b[39m{\u001b[39;00mestimator_name\u001b[39m}\u001b[39;00m\u001b[39m does not accept missing values\u001b[39m\u001b[39m\"\u001b[39m\n\u001b[1;32m    157\u001b[0m         \u001b[39m\"\u001b[39m\u001b[39m encoded as NaN natively. For supervised learning, you might want\u001b[39m\u001b[39m\"\u001b[39m\n\u001b[0;32m   (...)\u001b[0m\n\u001b[1;32m    167\u001b[0m         \u001b[39m\"\u001b[39m\u001b[39m#estimators-that-handle-nan-values\u001b[39m\u001b[39m\"\u001b[39m\n\u001b[1;32m    168\u001b[0m     )\n\u001b[0;32m--> 169\u001b[0m \u001b[39mraise\u001b[39;00m \u001b[39mValueError\u001b[39;00m(msg_err)\n",
      "\u001b[0;31mValueError\u001b[0m: Input y contains NaN."
     ]
    }
   ],
   "source": [
    "from sklearn.model_selection import train_test_split\n",
    "from sklearn.ensemble import RandomForestRegressor\n",
    "from sklearn.preprocessing import LabelEncoder\n",
    "import pandas as pd\n",
    "import numpy as np\n",
    "\n",
    "def predict_with_random_forest(df, target_column, test_size=0.2, random_state=42):\n",
    "    \"\"\"\n",
    "    Trains a Random Forest model on mixed data types and makes predictions.\n",
    "    \n",
    "    Args:\n",
    "        df: DataFrame containing the data\n",
    "        target_column: Name of the column to predict\n",
    "        test_size: Proportion of data to use for testing\n",
    "        random_state: Random seed for reproducibility\n",
    "    \n",
    "    Returns:\n",
    "        model: Trained RandomForestRegressor\n",
    "        X_test: Test features\n",
    "        y_test: Test target values\n",
    "        y_pred: Predictions\n",
    "        feature_importance: DataFrame of feature importances\n",
    "    \"\"\"\n",
    "    # Separate features and target\n",
    "    X = df.drop(target_column, axis=1)\n",
    "    y = df[target_column]\n",
    "    \n",
    "    # Handle categorical variables\n",
    "    encoders = {}\n",
    "    for column in X.select_dtypes(include=['object']).columns:\n",
    "        encoders[column] = LabelEncoder()\n",
    "        X[column] = encoders[column].fit_transform(X[column])\n",
    "    \n",
    "    # Split data\n",
    "    X_train, X_test, y_train, y_test = train_test_split(X, y, test_size=test_size, random_state=random_state)\n",
    "    \n",
    "    # Train model\n",
    "    model = RandomForestRegressor(random_state=random_state)\n",
    "    model.fit(X_train, y_train)\n",
    "    \n",
    "    # Make predictions\n",
    "    y_pred = model.predict(X_test)\n",
    "    \n",
    "    # Get feature importance\n",
    "    feature_importance = pd.DataFrame({\n",
    "        'feature': X.columns,\n",
    "        'importance': model.feature_importances_\n",
    "    }).sort_values('importance', ascending=False)\n",
    "    \n",
    "    return model, X_test, y_test, y_pred, feature_importance\n",
    "\n",
    "# Example usage:\n",
    "model, X_test, y_test, predictions, importance = predict_with_random_forest(\n",
    "    df=df_escolhidos,\n",
    "    target_column='Idade'\n",
    ")"
   ]
  },
  {
   "cell_type": "code",
   "execution_count": null,
   "metadata": {},
   "outputs": [
    {
     "data": {
      "text/html": [
       "<div>\n",
       "<style scoped>\n",
       "    .dataframe tbody tr th:only-of-type {\n",
       "        vertical-align: middle;\n",
       "    }\n",
       "\n",
       "    .dataframe tbody tr th {\n",
       "        vertical-align: top;\n",
       "    }\n",
       "\n",
       "    .dataframe thead th {\n",
       "        text-align: right;\n",
       "    }\n",
       "</style>\n",
       "<table border=\"1\" class=\"dataframe\">\n",
       "  <thead>\n",
       "    <tr style=\"text-align: right;\">\n",
       "      <th></th>\n",
       "      <th>Ocupacao</th>\n",
       "      <th>Idade</th>\n",
       "      <th>Renda_Mensal</th>\n",
       "      <th>Gasto_Internet</th>\n",
       "      <th>Regiao</th>\n",
       "      <th>Genero</th>\n",
       "      <th>Plano_Atual</th>\n",
       "      <th>Motivo_Troca</th>\n",
       "    </tr>\n",
       "  </thead>\n",
       "  <tbody>\n",
       "    <tr>\n",
       "      <th>0</th>\n",
       "      <td>Engenheiro</td>\n",
       "      <td>60.00</td>\n",
       "      <td>5681.00</td>\n",
       "      <td>368.00</td>\n",
       "      <td>Sudeste</td>\n",
       "      <td>Feminino</td>\n",
       "      <td>Basico</td>\n",
       "      <td>Preco Alto</td>\n",
       "    </tr>\n",
       "    <tr>\n",
       "      <th>1</th>\n",
       "      <td>Engenheiro</td>\n",
       "      <td>21.00</td>\n",
       "      <td>6172.00</td>\n",
       "      <td>229.52</td>\n",
       "      <td>Norte</td>\n",
       "      <td>Masculino</td>\n",
       "      <td>Basico</td>\n",
       "      <td>Cobertura Ruim</td>\n",
       "    </tr>\n",
       "    <tr>\n",
       "      <th>2</th>\n",
       "      <td>Engenheiro</td>\n",
       "      <td>21.00</td>\n",
       "      <td>8488.52</td>\n",
       "      <td>270.90</td>\n",
       "      <td>Norte</td>\n",
       "      <td>Feminino</td>\n",
       "      <td>Basico</td>\n",
       "      <td>Atendimento Ruim</td>\n",
       "    </tr>\n",
       "    <tr>\n",
       "      <th>3</th>\n",
       "      <td>Engenheiro</td>\n",
       "      <td>34.00</td>\n",
       "      <td>3782.00</td>\n",
       "      <td>394.00</td>\n",
       "      <td>Sudeste</td>\n",
       "      <td>Masculino</td>\n",
       "      <td>Basico</td>\n",
       "      <td>Atendimento Ruim</td>\n",
       "    </tr>\n",
       "    <tr>\n",
       "      <th>4</th>\n",
       "      <td>Engenheiro</td>\n",
       "      <td>49.29</td>\n",
       "      <td>7753.73</td>\n",
       "      <td>339.00</td>\n",
       "      <td>Nordeste</td>\n",
       "      <td>Masculino</td>\n",
       "      <td>Basico</td>\n",
       "      <td>Cobertura Ruim</td>\n",
       "    </tr>\n",
       "    <tr>\n",
       "      <th>...</th>\n",
       "      <td>...</td>\n",
       "      <td>...</td>\n",
       "      <td>...</td>\n",
       "      <td>...</td>\n",
       "      <td>...</td>\n",
       "      <td>...</td>\n",
       "      <td>...</td>\n",
       "      <td>...</td>\n",
       "    </tr>\n",
       "    <tr>\n",
       "      <th>4923</th>\n",
       "      <td>Desempregado</td>\n",
       "      <td>40.80</td>\n",
       "      <td>7238.45</td>\n",
       "      <td>312.64</td>\n",
       "      <td>Norte</td>\n",
       "      <td>Masculino</td>\n",
       "      <td>Intermediario</td>\n",
       "      <td>Cobertura Ruim</td>\n",
       "    </tr>\n",
       "    <tr>\n",
       "      <th>4924</th>\n",
       "      <td>Engenheiro</td>\n",
       "      <td>40.80</td>\n",
       "      <td>7238.45</td>\n",
       "      <td>312.64</td>\n",
       "      <td>Norte</td>\n",
       "      <td>Masculino</td>\n",
       "      <td>Intermediario</td>\n",
       "      <td>Cobertura Ruim</td>\n",
       "    </tr>\n",
       "    <tr>\n",
       "      <th>4925</th>\n",
       "      <td>Comerciante</td>\n",
       "      <td>40.80</td>\n",
       "      <td>7238.45</td>\n",
       "      <td>312.64</td>\n",
       "      <td>Norte</td>\n",
       "      <td>Masculino</td>\n",
       "      <td>Intermediario</td>\n",
       "      <td>Cobertura Ruim</td>\n",
       "    </tr>\n",
       "    <tr>\n",
       "      <th>4926</th>\n",
       "      <td>Comerciante</td>\n",
       "      <td>40.80</td>\n",
       "      <td>7238.45</td>\n",
       "      <td>312.64</td>\n",
       "      <td>Norte</td>\n",
       "      <td>Masculino</td>\n",
       "      <td>Intermediario</td>\n",
       "      <td>Cobertura Ruim</td>\n",
       "    </tr>\n",
       "    <tr>\n",
       "      <th>4927</th>\n",
       "      <td>Estudante</td>\n",
       "      <td>40.80</td>\n",
       "      <td>7238.45</td>\n",
       "      <td>312.64</td>\n",
       "      <td>Norte</td>\n",
       "      <td>Masculino</td>\n",
       "      <td>Intermediario</td>\n",
       "      <td>Cobertura Ruim</td>\n",
       "    </tr>\n",
       "  </tbody>\n",
       "</table>\n",
       "<p>4928 rows × 8 columns</p>\n",
       "</div>"
      ],
      "text/plain": [
       "          Ocupacao  Idade  Renda_Mensal  Gasto_Internet    Regiao     Genero  \\\n",
       "0       Engenheiro  60.00       5681.00          368.00   Sudeste   Feminino   \n",
       "1       Engenheiro  21.00       6172.00          229.52     Norte  Masculino   \n",
       "2       Engenheiro  21.00       8488.52          270.90     Norte   Feminino   \n",
       "3       Engenheiro  34.00       3782.00          394.00   Sudeste  Masculino   \n",
       "4       Engenheiro  49.29       7753.73          339.00  Nordeste  Masculino   \n",
       "...            ...    ...           ...             ...       ...        ...   \n",
       "4923  Desempregado  40.80       7238.45          312.64     Norte  Masculino   \n",
       "4924    Engenheiro  40.80       7238.45          312.64     Norte  Masculino   \n",
       "4925   Comerciante  40.80       7238.45          312.64     Norte  Masculino   \n",
       "4926   Comerciante  40.80       7238.45          312.64     Norte  Masculino   \n",
       "4927     Estudante  40.80       7238.45          312.64     Norte  Masculino   \n",
       "\n",
       "        Plano_Atual      Motivo_Troca  \n",
       "0            Basico        Preco Alto  \n",
       "1            Basico    Cobertura Ruim  \n",
       "2            Basico  Atendimento Ruim  \n",
       "3            Basico  Atendimento Ruim  \n",
       "4            Basico    Cobertura Ruim  \n",
       "...             ...               ...  \n",
       "4923  Intermediario    Cobertura Ruim  \n",
       "4924  Intermediario    Cobertura Ruim  \n",
       "4925  Intermediario    Cobertura Ruim  \n",
       "4926  Intermediario    Cobertura Ruim  \n",
       "4927  Intermediario    Cobertura Ruim  \n",
       "\n",
       "[4928 rows x 8 columns]"
      ]
     },
     "execution_count": 277,
     "metadata": {},
     "output_type": "execute_result"
    }
   ],
   "source": [
    "df_escolhido_imputed"
   ]
  },
  {
   "cell_type": "code",
   "execution_count": null,
   "metadata": {},
   "outputs": [
    {
     "data": {
      "text/html": [
       "<div>\n",
       "<style scoped>\n",
       "    .dataframe tbody tr th:only-of-type {\n",
       "        vertical-align: middle;\n",
       "    }\n",
       "\n",
       "    .dataframe tbody tr th {\n",
       "        vertical-align: top;\n",
       "    }\n",
       "\n",
       "    .dataframe thead th {\n",
       "        text-align: right;\n",
       "    }\n",
       "</style>\n",
       "<table border=\"1\" class=\"dataframe\">\n",
       "  <thead>\n",
       "    <tr style=\"text-align: right;\">\n",
       "      <th></th>\n",
       "      <th>Idade</th>\n",
       "      <th>Renda_Mensal</th>\n",
       "      <th>Gasto_Internet</th>\n",
       "    </tr>\n",
       "  </thead>\n",
       "  <tbody>\n",
       "    <tr>\n",
       "      <th>count</th>\n",
       "      <td>1905.000000</td>\n",
       "      <td>1939.000000</td>\n",
       "      <td>1914.000000</td>\n",
       "    </tr>\n",
       "    <tr>\n",
       "      <th>mean</th>\n",
       "      <td>43.236220</td>\n",
       "      <td>9024.978339</td>\n",
       "      <td>274.261233</td>\n",
       "    </tr>\n",
       "    <tr>\n",
       "      <th>std</th>\n",
       "      <td>15.069686</td>\n",
       "      <td>5505.247953</td>\n",
       "      <td>114.884545</td>\n",
       "    </tr>\n",
       "    <tr>\n",
       "      <th>min</th>\n",
       "      <td>18.000000</td>\n",
       "      <td>1324.000000</td>\n",
       "      <td>51.000000</td>\n",
       "    </tr>\n",
       "    <tr>\n",
       "      <th>25%</th>\n",
       "      <td>31.000000</td>\n",
       "      <td>4342.000000</td>\n",
       "      <td>187.000000</td>\n",
       "    </tr>\n",
       "    <tr>\n",
       "      <th>50%</th>\n",
       "      <td>43.000000</td>\n",
       "      <td>7662.000000</td>\n",
       "      <td>263.000000</td>\n",
       "    </tr>\n",
       "    <tr>\n",
       "      <th>75%</th>\n",
       "      <td>56.000000</td>\n",
       "      <td>13689.500000</td>\n",
       "      <td>365.000000</td>\n",
       "    </tr>\n",
       "    <tr>\n",
       "      <th>max</th>\n",
       "      <td>70.000000</td>\n",
       "      <td>19980.000000</td>\n",
       "      <td>500.000000</td>\n",
       "    </tr>\n",
       "  </tbody>\n",
       "</table>\n",
       "</div>"
      ],
      "text/plain": [
       "             Idade  Renda_Mensal  Gasto_Internet\n",
       "count  1905.000000   1939.000000     1914.000000\n",
       "mean     43.236220   9024.978339      274.261233\n",
       "std      15.069686   5505.247953      114.884545\n",
       "min      18.000000   1324.000000       51.000000\n",
       "25%      31.000000   4342.000000      187.000000\n",
       "50%      43.000000   7662.000000      263.000000\n",
       "75%      56.000000  13689.500000      365.000000\n",
       "max      70.000000  19980.000000      500.000000"
      ]
     },
     "execution_count": 278,
     "metadata": {},
     "output_type": "execute_result"
    }
   ],
   "source": [
    "df_escolhidos.describe()"
   ]
  },
  {
   "cell_type": "code",
   "execution_count": null,
   "metadata": {},
   "outputs": [
    {
     "data": {
      "text/html": [
       "<div>\n",
       "<style scoped>\n",
       "    .dataframe tbody tr th:only-of-type {\n",
       "        vertical-align: middle;\n",
       "    }\n",
       "\n",
       "    .dataframe tbody tr th {\n",
       "        vertical-align: top;\n",
       "    }\n",
       "\n",
       "    .dataframe thead th {\n",
       "        text-align: right;\n",
       "    }\n",
       "</style>\n",
       "<table border=\"1\" class=\"dataframe\">\n",
       "  <thead>\n",
       "    <tr style=\"text-align: right;\">\n",
       "      <th></th>\n",
       "      <th>Idade</th>\n",
       "      <th>Renda_Mensal</th>\n",
       "      <th>Gasto_Internet</th>\n",
       "    </tr>\n",
       "  </thead>\n",
       "  <tbody>\n",
       "    <tr>\n",
       "      <th>count</th>\n",
       "      <td>4928.000000</td>\n",
       "      <td>4928.000000</td>\n",
       "      <td>4928.000000</td>\n",
       "    </tr>\n",
       "    <tr>\n",
       "      <th>mean</th>\n",
       "      <td>42.028056</td>\n",
       "      <td>8131.533564</td>\n",
       "      <td>294.138259</td>\n",
       "    </tr>\n",
       "    <tr>\n",
       "      <th>std</th>\n",
       "      <td>9.633116</td>\n",
       "      <td>3631.147188</td>\n",
       "      <td>75.819756</td>\n",
       "    </tr>\n",
       "    <tr>\n",
       "      <th>min</th>\n",
       "      <td>18.000000</td>\n",
       "      <td>1324.000000</td>\n",
       "      <td>51.000000</td>\n",
       "    </tr>\n",
       "    <tr>\n",
       "      <th>25%</th>\n",
       "      <td>40.800000</td>\n",
       "      <td>7238.450000</td>\n",
       "      <td>271.000000</td>\n",
       "    </tr>\n",
       "    <tr>\n",
       "      <th>50%</th>\n",
       "      <td>40.800000</td>\n",
       "      <td>7238.450000</td>\n",
       "      <td>312.640000</td>\n",
       "    </tr>\n",
       "    <tr>\n",
       "      <th>75%</th>\n",
       "      <td>43.000000</td>\n",
       "      <td>8182.250000</td>\n",
       "      <td>312.640000</td>\n",
       "    </tr>\n",
       "    <tr>\n",
       "      <th>max</th>\n",
       "      <td>70.000000</td>\n",
       "      <td>19980.000000</td>\n",
       "      <td>500.000000</td>\n",
       "    </tr>\n",
       "  </tbody>\n",
       "</table>\n",
       "</div>"
      ],
      "text/plain": [
       "             Idade  Renda_Mensal  Gasto_Internet\n",
       "count  4928.000000   4928.000000     4928.000000\n",
       "mean     42.028056   8131.533564      294.138259\n",
       "std       9.633116   3631.147188       75.819756\n",
       "min      18.000000   1324.000000       51.000000\n",
       "25%      40.800000   7238.450000      271.000000\n",
       "50%      40.800000   7238.450000      312.640000\n",
       "75%      43.000000   8182.250000      312.640000\n",
       "max      70.000000  19980.000000      500.000000"
      ]
     },
     "execution_count": 279,
     "metadata": {},
     "output_type": "execute_result"
    }
   ],
   "source": [
    "df_escolhido_imputed.describe()"
   ]
  },
  {
   "cell_type": "code",
   "execution_count": null,
   "metadata": {},
   "outputs": [
    {
     "data": {
      "text/html": [
       "<div>\n",
       "<style scoped>\n",
       "    .dataframe tbody tr th:only-of-type {\n",
       "        vertical-align: middle;\n",
       "    }\n",
       "\n",
       "    .dataframe tbody tr th {\n",
       "        vertical-align: top;\n",
       "    }\n",
       "\n",
       "    .dataframe thead th {\n",
       "        text-align: right;\n",
       "    }\n",
       "</style>\n",
       "<table border=\"1\" class=\"dataframe\">\n",
       "  <thead>\n",
       "    <tr style=\"text-align: right;\">\n",
       "      <th></th>\n",
       "      <th>Ocupacao</th>\n",
       "      <th>Idade</th>\n",
       "      <th>Renda_Mensal</th>\n",
       "      <th>Gasto_Internet</th>\n",
       "      <th>Regiao</th>\n",
       "      <th>Genero</th>\n",
       "      <th>Plano_Atual</th>\n",
       "      <th>Motivo_Troca</th>\n",
       "    </tr>\n",
       "  </thead>\n",
       "  <tbody>\n",
       "    <tr>\n",
       "      <th>Ocupacao</th>\n",
       "      <td>1.000000</td>\n",
       "      <td>NaN</td>\n",
       "      <td>NaN</td>\n",
       "      <td>NaN</td>\n",
       "      <td>-0.537146</td>\n",
       "      <td>-0.602581</td>\n",
       "      <td>-0.574123</td>\n",
       "      <td>-0.552011</td>\n",
       "    </tr>\n",
       "    <tr>\n",
       "      <th>Idade</th>\n",
       "      <td>NaN</td>\n",
       "      <td>1.000000</td>\n",
       "      <td>-0.017884</td>\n",
       "      <td>0.068811</td>\n",
       "      <td>-0.028130</td>\n",
       "      <td>-0.028166</td>\n",
       "      <td>-0.013813</td>\n",
       "      <td>-0.016083</td>\n",
       "    </tr>\n",
       "    <tr>\n",
       "      <th>Renda_Mensal</th>\n",
       "      <td>NaN</td>\n",
       "      <td>-0.017884</td>\n",
       "      <td>1.000000</td>\n",
       "      <td>0.010390</td>\n",
       "      <td>-0.049945</td>\n",
       "      <td>0.002676</td>\n",
       "      <td>0.034509</td>\n",
       "      <td>-0.012304</td>\n",
       "    </tr>\n",
       "    <tr>\n",
       "      <th>Gasto_Internet</th>\n",
       "      <td>NaN</td>\n",
       "      <td>0.068811</td>\n",
       "      <td>0.010390</td>\n",
       "      <td>1.000000</td>\n",
       "      <td>0.013842</td>\n",
       "      <td>-0.001833</td>\n",
       "      <td>-0.004599</td>\n",
       "      <td>-0.063732</td>\n",
       "    </tr>\n",
       "    <tr>\n",
       "      <th>Regiao</th>\n",
       "      <td>-0.537146</td>\n",
       "      <td>-0.028130</td>\n",
       "      <td>-0.049945</td>\n",
       "      <td>0.013842</td>\n",
       "      <td>1.000000</td>\n",
       "      <td>0.536254</td>\n",
       "      <td>0.492750</td>\n",
       "      <td>0.486335</td>\n",
       "    </tr>\n",
       "    <tr>\n",
       "      <th>Genero</th>\n",
       "      <td>-0.602581</td>\n",
       "      <td>-0.028166</td>\n",
       "      <td>0.002676</td>\n",
       "      <td>-0.001833</td>\n",
       "      <td>0.536254</td>\n",
       "      <td>1.000000</td>\n",
       "      <td>0.561952</td>\n",
       "      <td>0.545480</td>\n",
       "    </tr>\n",
       "    <tr>\n",
       "      <th>Plano_Atual</th>\n",
       "      <td>-0.574123</td>\n",
       "      <td>-0.013813</td>\n",
       "      <td>0.034509</td>\n",
       "      <td>-0.004599</td>\n",
       "      <td>0.492750</td>\n",
       "      <td>0.561952</td>\n",
       "      <td>1.000000</td>\n",
       "      <td>0.490622</td>\n",
       "    </tr>\n",
       "    <tr>\n",
       "      <th>Motivo_Troca</th>\n",
       "      <td>-0.552011</td>\n",
       "      <td>-0.016083</td>\n",
       "      <td>-0.012304</td>\n",
       "      <td>-0.063732</td>\n",
       "      <td>0.486335</td>\n",
       "      <td>0.545480</td>\n",
       "      <td>0.490622</td>\n",
       "      <td>1.000000</td>\n",
       "    </tr>\n",
       "  </tbody>\n",
       "</table>\n",
       "</div>"
      ],
      "text/plain": [
       "                Ocupacao     Idade  Renda_Mensal  Gasto_Internet    Regiao  \\\n",
       "Ocupacao        1.000000       NaN           NaN             NaN -0.537146   \n",
       "Idade                NaN  1.000000     -0.017884        0.068811 -0.028130   \n",
       "Renda_Mensal         NaN -0.017884      1.000000        0.010390 -0.049945   \n",
       "Gasto_Internet       NaN  0.068811      0.010390        1.000000  0.013842   \n",
       "Regiao         -0.537146 -0.028130     -0.049945        0.013842  1.000000   \n",
       "Genero         -0.602581 -0.028166      0.002676       -0.001833  0.536254   \n",
       "Plano_Atual    -0.574123 -0.013813      0.034509       -0.004599  0.492750   \n",
       "Motivo_Troca   -0.552011 -0.016083     -0.012304       -0.063732  0.486335   \n",
       "\n",
       "                  Genero  Plano_Atual  Motivo_Troca  \n",
       "Ocupacao       -0.602581    -0.574123     -0.552011  \n",
       "Idade          -0.028166    -0.013813     -0.016083  \n",
       "Renda_Mensal    0.002676     0.034509     -0.012304  \n",
       "Gasto_Internet -0.001833    -0.004599     -0.063732  \n",
       "Regiao          0.536254     0.492750      0.486335  \n",
       "Genero          1.000000     0.561952      0.545480  \n",
       "Plano_Atual     0.561952     1.000000      0.490622  \n",
       "Motivo_Troca    0.545480     0.490622      1.000000  "
      ]
     },
     "execution_count": 280,
     "metadata": {},
     "output_type": "execute_result"
    }
   ],
   "source": [
    "#Nao esquecer de calcular a corr geral antes e depois \n",
    "import pandas as pd\n",
    "from sklearn.preprocessing import LabelEncoder\n",
    "\n",
    "df_corr_norm = df_escolhidos.copy()\n",
    "# Identificar as colunas do tipo 'object'\n",
    "object_columns = df_corr_norm.select_dtypes(include=['object']).columns\n",
    "\n",
    "# Criar uma instância do LabelEncoder\n",
    "label_encoder = LabelEncoder()\n",
    "\n",
    "# Aplicar LabelEncoder a cada coluna de tipo 'object'\n",
    "for col in object_columns:\n",
    "    # Substituir NaN por um valor, como 'missing'\n",
    "    df_corr_norm[col] = df_corr_norm[col].fillna('missing')\n",
    "\n",
    "    df_corr_norm[col] = df_corr_norm[col].astype(str)\n",
    "    \n",
    "    # Aplicar o LabelEncoder\n",
    "    df_corr_norm[col] = label_encoder.fit_transform(df_corr_norm[col])\n",
    "\n",
    "# Ver o dataframe modificado\n",
    "df_corr_norm=df_corr_norm.corr()\n",
    "df_corr_norm"
   ]
  },
  {
   "cell_type": "code",
   "execution_count": null,
   "metadata": {},
   "outputs": [
    {
     "data": {
      "image/png": "[encoded data removed]",
      "text/plain": [
       "<Figure size 1000x800 with 2 Axes>"
      ]
     },
     "metadata": {},
     "output_type": "display_data"
    }
   ],
   "source": [
    "# Configurar o tamanho e o mapa de calor\n",
    "plt.figure(figsize=(10, 8))\n",
    "sns.heatmap(df_corr_norm, annot=True, cmap='coolwarm', center=0, cbar_kws={'label': 'Correlação'})\n",
    "plt.title(\"Correlações\")\n",
    "plt.show()"
   ]
  },
  {
   "cell_type": "code",
   "execution_count": null,
   "metadata": {},
   "outputs": [
    {
     "data": {
      "text/html": [
       "<div>\n",
       "<style scoped>\n",
       "    .dataframe tbody tr th:only-of-type {\n",
       "        vertical-align: middle;\n",
       "    }\n",
       "\n",
       "    .dataframe tbody tr th {\n",
       "        vertical-align: top;\n",
       "    }\n",
       "\n",
       "    .dataframe thead th {\n",
       "        text-align: right;\n",
       "    }\n",
       "</style>\n",
       "<table border=\"1\" class=\"dataframe\">\n",
       "  <thead>\n",
       "    <tr style=\"text-align: right;\">\n",
       "      <th></th>\n",
       "      <th>Ocupacao</th>\n",
       "      <th>Regiao</th>\n",
       "      <th>Genero</th>\n",
       "      <th>Plano_Atual</th>\n",
       "      <th>Motivo_Troca</th>\n",
       "    </tr>\n",
       "  </thead>\n",
       "  <tbody>\n",
       "    <tr>\n",
       "      <th>Ocupacao</th>\n",
       "      <td>1.000000</td>\n",
       "      <td>-0.031773</td>\n",
       "      <td>0.042777</td>\n",
       "      <td>NaN</td>\n",
       "      <td>NaN</td>\n",
       "    </tr>\n",
       "    <tr>\n",
       "      <th>Regiao</th>\n",
       "      <td>-0.031773</td>\n",
       "      <td>1.000000</td>\n",
       "      <td>-0.310851</td>\n",
       "      <td>NaN</td>\n",
       "      <td>NaN</td>\n",
       "    </tr>\n",
       "    <tr>\n",
       "      <th>Genero</th>\n",
       "      <td>0.042777</td>\n",
       "      <td>-0.310851</td>\n",
       "      <td>1.000000</td>\n",
       "      <td>NaN</td>\n",
       "      <td>NaN</td>\n",
       "    </tr>\n",
       "    <tr>\n",
       "      <th>Plano_Atual</th>\n",
       "      <td>NaN</td>\n",
       "      <td>NaN</td>\n",
       "      <td>NaN</td>\n",
       "      <td>NaN</td>\n",
       "      <td>NaN</td>\n",
       "    </tr>\n",
       "    <tr>\n",
       "      <th>Motivo_Troca</th>\n",
       "      <td>NaN</td>\n",
       "      <td>NaN</td>\n",
       "      <td>NaN</td>\n",
       "      <td>NaN</td>\n",
       "      <td>NaN</td>\n",
       "    </tr>\n",
       "  </tbody>\n",
       "</table>\n",
       "</div>"
      ],
      "text/plain": [
       "              Ocupacao    Regiao    Genero  Plano_Atual  Motivo_Troca\n",
       "Ocupacao      1.000000 -0.031773  0.042777          NaN           NaN\n",
       "Regiao       -0.031773  1.000000 -0.310851          NaN           NaN\n",
       "Genero        0.042777 -0.310851  1.000000          NaN           NaN\n",
       "Plano_Atual        NaN       NaN       NaN          NaN           NaN\n",
       "Motivo_Troca       NaN       NaN       NaN          NaN           NaN"
      ]
     },
     "execution_count": 347,
     "metadata": {},
     "output_type": "execute_result"
    }
   ],
   "source": [
    "#Nao esquecer de calcular a corr geral antes e depois \n",
    "import pandas as pd\n",
    "from sklearn.preprocessing import LabelEncoder\n",
    "\n",
    "df_corr_imputed = df_reverted.copy()\n",
    "# Identificar as colunas do tipo 'object'\n",
    "object_columns = df_corr_imputed.select_dtypes(include=['object']).columns\n",
    "\n",
    "# Criar uma instância do LabelEncoder\n",
    "label_encoder = LabelEncoder()\n",
    "\n",
    "# Aplicar LabelEncoder a cada coluna de tipo 'object'\n",
    "for col in object_columns:\n",
    "    # Substituir NaN por um valor, como 'missing'\n",
    "\n",
    "    df_corr_imputed[col] = df_corr_imputed[col].astype(str)\n",
    "    \n",
    "    # Aplicar o LabelEncoder\n",
    "    df_corr_imputed[col] = label_encoder.fit_transform(df_corr_imputed[col])\n",
    "\n",
    "# Ver o dataframe modificado\n",
    "df_corr_imputed=df_corr_imputed.corr()\n",
    "df_corr_imputed"
   ]
  },
  {
   "cell_type": "code",
   "execution_count": null,
   "metadata": {},
   "outputs": [
    {
     "data": {
      "image/png": "[encoded data removed]",
      "text/plain": [
       "<Figure size 1000x800 with 2 Axes>"
      ]
     },
     "metadata": {},
     "output_type": "display_data"
    }
   ],
   "source": [
    "# Calcular a diferença entre as correlações\n",
    "corr_diff = df_corr_imputed - df_corr_norm\n",
    "\n",
    "# Configurar o tamanho e o mapa de calor\n",
    "plt.figure(figsize=(10, 8))\n",
    "sns.heatmap(corr_diff, annot=True, cmap='coolwarm', center=0, cbar_kws={'label': 'Diferença de Correlação'})\n",
    "plt.title(\"Diferença entre as Correlações\")\n",
    "plt.show()"
   ]
  },
  {
   "cell_type": "code",
   "execution_count": null,
   "metadata": {},
   "outputs": [
    {
     "ename": "TypeError",
     "evalue": "'regex' must be a string or a compiled regular expression or a list or dict of strings or regular expressions, you passed a 'bool'",
     "output_type": "error",
     "traceback": [
      "\u001b[0;31m---------------------------------------------------------------------------\u001b[0m",
      "\u001b[0;31mTypeError\u001b[0m                                 Traceback (most recent call last)",
      "\u001b[0;32m/var/folders/53/jx83wpkx7hgdbvxfpv0hmf8w0000gq/T/ipykernel_24384/4159468797.py\u001b[0m in \u001b[0;36m?\u001b[0;34m()\u001b[0m\n\u001b[1;32m      1\u001b[0m \u001b[0mdf_test\u001b[0m \u001b[0;34m=\u001b[0m \u001b[0mdf_escolhidos\u001b[0m\u001b[0;34m.\u001b[0m\u001b[0mcopy\u001b[0m\u001b[0;34m(\u001b[0m\u001b[0;34m)\u001b[0m\u001b[0;34m\u001b[0m\u001b[0;34m\u001b[0m\u001b[0m\n\u001b[0;32m----> 2\u001b[0;31m \u001b[0mdf_test\u001b[0m\u001b[0;34m[\u001b[0m\u001b[0;34m'Ocupacao'\u001b[0m\u001b[0;34m]\u001b[0m \u001b[0;34m=\u001b[0m \u001b[0mdf_test\u001b[0m\u001b[0;34m[\u001b[0m\u001b[0;34m'Ocupacao'\u001b[0m\u001b[0;34m]\u001b[0m\u001b[0;34m.\u001b[0m\u001b[0mreplace\u001b[0m\u001b[0;34m(\u001b[0m\u001b[0;32mNone\u001b[0m\u001b[0;34m,\u001b[0m\u001b[0mdf_test\u001b[0m\u001b[0;34m.\u001b[0m\u001b[0mmode\u001b[0m\u001b[0;34m)\u001b[0m\u001b[0;34m\u001b[0m\u001b[0;34m\u001b[0m\u001b[0m\n\u001b[0m",
      "\u001b[0;32m~/Insper Junior/Clustering/Telecconect_analysis/env/lib/python3.13/site-packages/pandas/core/generic.py\u001b[0m in \u001b[0;36m?\u001b[0;34m(self, to_replace, value, inplace, limit, regex, method)\u001b[0m\n\u001b[1;32m   8108\u001b[0m                     \u001b[0mis_re_compilable\u001b[0m\u001b[0;34m(\u001b[0m\u001b[0mregex\u001b[0m\u001b[0;34m)\u001b[0m\u001b[0;34m\u001b[0m\u001b[0;34m\u001b[0m\u001b[0m\n\u001b[1;32m   8109\u001b[0m                     \u001b[0;32mor\u001b[0m \u001b[0mis_list_like\u001b[0m\u001b[0;34m(\u001b[0m\u001b[0mregex\u001b[0m\u001b[0;34m)\u001b[0m\u001b[0;34m\u001b[0m\u001b[0;34m\u001b[0m\u001b[0m\n\u001b[1;32m   8110\u001b[0m                     \u001b[0;32mor\u001b[0m \u001b[0mis_dict_like\u001b[0m\u001b[0;34m(\u001b[0m\u001b[0mregex\u001b[0m\u001b[0;34m)\u001b[0m\u001b[0;34m\u001b[0m\u001b[0;34m\u001b[0m\u001b[0m\n\u001b[1;32m   8111\u001b[0m                 \u001b[0;34m)\u001b[0m\u001b[0;34m:\u001b[0m\u001b[0;34m\u001b[0m\u001b[0;34m\u001b[0m\u001b[0m\n\u001b[0;32m-> 8112\u001b[0;31m                     raise TypeError(\n\u001b[0m\u001b[1;32m   8113\u001b[0m                         \u001b[0;34mf\"\u001b[0m\u001b[0;34m'regex' must be a string or a compiled regular expression \u001b[0m\u001b[0;34m\"\u001b[0m\u001b[0;34m\u001b[0m\u001b[0;34m\u001b[0m\u001b[0m\n\u001b[1;32m   8114\u001b[0m                         \u001b[0;34mf\"\u001b[0m\u001b[0;34mor a list or dict of strings or regular expressions, \u001b[0m\u001b[0;34m\"\u001b[0m\u001b[0;34m\u001b[0m\u001b[0;34m\u001b[0m\u001b[0m\n\u001b[1;32m   8115\u001b[0m                         \u001b[0;34mf\"\u001b[0m\u001b[0;34myou passed a \u001b[0m\u001b[0;34m{\u001b[0m\u001b[0mrepr\u001b[0m\u001b[0;34m(\u001b[0m\u001b[0mtype\u001b[0m\u001b[0;34m(\u001b[0m\u001b[0mregex\u001b[0m\u001b[0;34m)\u001b[0m\u001b[0;34m.\u001b[0m\u001b[0m__name__\u001b[0m\u001b[0;34m)\u001b[0m\u001b[0;34m}\u001b[0m\u001b[0;34m\"\u001b[0m\u001b[0;34m\u001b[0m\u001b[0;34m\u001b[0m\u001b[0m\n",
      "\u001b[0;31mTypeError\u001b[0m: 'regex' must be a string or a compiled regular expression or a list or dict of strings or regular expressions, you passed a 'bool'"
     ]
    }
   ],
   "source": [
    "df_test = df_escolhidos.copy()\n",
    "df_test['Ocupacao'] = df_test['Ocupacao'].replace(None,df_test.mode)"
   ]
  }
 ],
 "metadata": {
  "kernelspec": {
   "display_name": "base",
   "language": "python",
   "name": "python3"
  },
  "language_info": {
   "codemirror_mode": {
    "name": "ipython",
    "version": 3
   },
   "file_extension": ".py",
   "mimetype": "text/x-python",
   "name": "python",
   "nbconvert_exporter": "python",
   "pygments_lexer": "ipython3",
   "version": "3.9.13"
  },
  "orig_nbformat": 4
 },
 "nbformat": 4,
 "nbformat_minor": 2
}
